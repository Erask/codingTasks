{
 "cells": [
  {
   "cell_type": "markdown",
   "metadata": {},
   "source": [
    "\n",
    " Geospatial analysis of donations, food wastage, and hunger index across different regions in Africa. \n"
   ]
  },
  {
   "cell_type": "code",
   "execution_count": null,
   "metadata": {},
   "outputs": [],
   "source": [
    "#libraries \n",
    "import pandas as pd \n",
    "import matplotlib.pyplot as plt \n",
    "from mpl_toolkits.basemap import Basemap\n",
    "# matplotlib.use('TkAgg') or matplotlib.use('Qt5Agg')\n",
    "import seaborn as sns\n",
    "import mplcursors\n",
    "\n",
    "# Importing libraries for interactive plots\n",
    "plt.ion()  \n",
    "\n",
    "\n",
    "# Defining centroids for Africa sub-regions\n",
    "region_centroids = {\n",
    "    'North Africa': (30.0, 5.0),      \n",
    "    'Central Africa': (0.0, 20.0),    \n",
    "    'Southern Africa': (-25.0, 25.0), \n",
    "    'West Africa': (10.0, -5.0),      \n",
    "    'East Africa': (0.0, 40.0)}\n",
    "\n",
    "\n",
    "# Load data\n",
    "donations_df = pd.read_csv(\"donations.csv\")\n",
    "hunger_df = pd.read_csv(\"hunger.csv\")\n",
    "food_wastage_df = pd.read_csv(\"food_wastage.csv\")\n",
    "\n",
    "\n",
    "# Cleaning the data\n",
    "donations_df = donations_df.dropna()\n",
    "food_wastage_df = food_wastage_df.dropna()\n",
    "hunger_df = hunger_df.dropna()\n",
    "\n",
    "# Printing cleaned DataFrames to check contents\n",
    "print(\"Cleaned Donations DataFrame:\\n\", donations_df)\n",
    "print(\"Cleaned Food Wastage DataFrame:\\n\", food_wastage_df)\n",
    "print(\"Cleaned Hunger DataFrame:\\n\", hunger_df)\n",
    "\n"
   ]
  },
  {
   "cell_type": "code",
   "execution_count": null,
   "metadata": {},
   "outputs": [],
   "source": [
    "# Merging the DataFrames\n",
    "merged_df = pd.merge(donations_df, hunger_df, on='region')\n",
    "merged_df = pd.merge(merged_df, food_wastage_df, on='region')\n",
    "print(\"Merged DataFrame:\\n\", merged_df)\n",
    "\n"
   ]
  },
  {
   "cell_type": "code",
   "execution_count": null,
   "metadata": {},
   "outputs": [],
   "source": [
    "# Drop of the population column and date columns\n",
    "merged_df = merged_df.drop(['population', 'date'], axis=1)\n",
    "print(\"Merged DataFrame after dropping columns:\\n\", merged_df.head())\n",
    "\n"
   ]
  },
  {
   "cell_type": "code",
   "execution_count": null,
   "metadata": {},
   "outputs": [],
   "source": [
    "# Adding coordinates to each DataFrame\n",
    "if 'latitude' not in merged_df.columns or 'longitude' not in merged_df.columns:\n",
    "    merged_df['latitude'] = merged_df['region'].map(lambda x: region_centroids.get(x, (None, None))[0])\n",
    "    merged_df['longitude'] = merged_df['region'].map(lambda x: region_centroids.get(x, (None, None))[1])\n",
    "    merged_df = merged_df.dropna(subset=['latitude', 'longitude'])\n",
    "\n",
    "print(\"Merged DataFrame:\\n\", merged_df.head())\n",
    "\n",
    "\n"
   ]
  },
  {
   "cell_type": "code",
   "execution_count": null,
   "metadata": {},
   "outputs": [],
   "source": [
    "# Defining data_files using merged_df with different value columns\n",
    "data_files = [\n",
    "    ('Donations', 'donation_amount'),\n",
    "    ('Food_Wastage', 'food_wastage'),\n",
    "    ('Hunger', 'hunger_index')\n",
    "]\n",
    "\n",
    "# Creating dataframes dictionary from merged_df\n",
    "dataframes = {f\"{name.lower()}.csv\": (merged_df, value_column) for name, value_column in data_files}"
   ]
  },
  {
   "cell_type": "code",
   "execution_count": null,
   "metadata": {},
   "outputs": [],
   "source": [
    "# Function to plot geospatial data\n",
    "def plot_geospatial_seaborn(df, title, color, label, scale_factor, value_column, min_size=50, max_size=500):\n",
    "    lat = df['latitude'].values\n",
    "    lon = df['longitude'].values\n",
    "    try:\n",
    "        values = df[value_column].values\n",
    "    except KeyError:\n",
    "        print(f\"Error: Column '{value_column}' not found in DataFrame. Available columns: {df.columns.tolist()}\")\n",
    "        return\n",
    "    \n",
    "    if len(lat) == 0 or len(lon) == 0 or len(values) == 0:\n",
    "        print(f\"Skipping {title}: No data to plot.\")\n",
    "        return\n",
    "\n",
    "    print(f\"{title} - Data points to plot: {len(lat)}\")\n",
    "\n",
    "    # Creating figure and map\n",
    "    plt.figure(figsize=(15, 10))\n",
    "    m = Basemap(projection='merc', llcrnrlat=-35, urcrnrlat=40, llcrnrlon=-20, urcrnrlon=55, resolution='c')\n",
    "    m.drawcoastlines()\n",
    "    m.drawcountries()\n",
    "    m.fillcontinents(color='lightgray', lake_color='white')\n",
    "    m.drawmapboundary(fill_color='white')\n",
    "\n",
    "    # Converting lat/lon to map coordinates\n",
    "    x, y = m(lon, lat)\n",
    "\n",
    "    # Printing coordinates and values\n",
    "    print(f\"{title} - x: {x[:5]}, y: {y[:5]}, values: {values[:5]}\")  \n",
    "   \n",
    "    # Getting current axis\n",
    "    ax = plt.gca()\n",
    "    \n",
    "    # Defining scatter for hover to work\n",
    "    scatter = sns.scatterplot(x=x, y=y, size=values*scale_factor, sizes=(min_size, max_size), color=color, alpha=0.6, legend=False, ax=ax, zorder=10)\n",
    "\n",
    "    # Adding title and label\n",
    "    plt.title(title, fontsize=16)\n",
    "    plt.text(0.02, 0.98, label, transform=ax.transAxes, fontsize=12, bbox=dict(facecolor='white', alpha=0.8))\n",
    "   \n",
    "    # Adding hover functionality\n",
    "    print(\"Setting up hover functionality...\")\n",
    "    cursor = mplcursors.cursor(scatter, hover=True)\n",
    "    @cursor.connect(\"add\")\n",
    "    def on_add(sel):\n",
    "        idx = sel.target.index\n",
    "        region = df['region'].iloc[idx]\n",
    "        value = df[value_column].iloc[idx]\n",
    "        print(f\"Hover triggered at index {idx}: Region={region}, Value={value}\")  # Debug hover\n",
    "        sel.annotation.set_text(f\"Region: {region}\\n{label}: {value:.2f}\")\n",
    "\n",
    "    plt.show()\n",
    "    plt.ioff()\n",
    "    pltshow(block=True)\n",
    "    print(f\"{title} plot displayed.\")\n"
   ]
  },
  {
   "cell_type": "code",
   "execution_count": null,
   "metadata": {},
   "outputs": [],
   "source": [
    "# Ploting each dataset using plot_geospatial_seaborn\n",
    "for file_name, (df, value_column) in dataframes.items():\n",
    "    title = f\"Regional {file_name.split('.')[0].capitalize().replace('_', (' '))} Geospatial Distribution \"\n",
    "    color = {'donations.csv': 'blue', 'food_wastage.csv': 'red', 'hunger.csv': 'green'}[file_name]\n",
    "    label = {'donations.csv': 'Donations ($M)', 'food_wastage.csv': 'Wastage (tons)', 'hunger.csv': 'Hunger Index'}[file_name]\n",
    "    scale_factor = {'donations.csv': 0.05, 'food_wastage.csv': 10, 'hunger.csv': 1000}[file_name]\n",
    "    plot_geospatial_seaborn(df, title, color, label, scale_factor, value_column, min_size=50, max_size=300)\n"
   ]
  },
  {
   "cell_type": "code",
   "execution_count": null,
   "metadata": {},
   "outputs": [],
   "source": [
    "# Bar chart to visualise distribution by region\n",
    "region_donations = donations_df.groupby('region')['donation_amount'].sum()\n",
    "region_food_wastage = food_wastage_df.groupby('region')['food_wastage'].sum()\n",
    "region_hunger = hunger_df.groupby('region')['hunger_index'].mean()\n",
    "\n",
    "# Figure and axis\n",
    "plt.figure(figsize=(15, 10))\n",
    "ax = plt.gca()\n",
    "\n",
    "# Plot bar chart for donations\n",
    "region_donations.plot(kind='bar', color='blue', alpha=0.6, ax=ax, position=0, width=0.25)\n",
    "\n",
    "# Plot bar chart for food wastage\n",
    "region_food_wastage.plot(kind='bar', color='red', alpha=0.6, ax=ax, position=1, width=0.25)\n",
    "\n",
    "# Plot bar chart for hunger index\n",
    "region_hunger.plot(kind='bar', color='green', alpha=0.6, ax=ax, position=2, width=0.25)\n",
    "\n",
    "# Add title and labels\n",
    "plt.title(\"Regional Distribution of Donations, Food Wastage, and Hunger Index\", fontsize=16)\n",
    "plt.ylabel(\"Value\")\n",
    "plt.xlabel(\"Region\")\n",
    "plt.legend(['Donations ($M)', 'Food Wastage (tons)', 'Hunger Index'])\n",
    "\n",
    "# Show plot\n",
    "plt.show()\n",
    "\n",
    "\n",
    "\n",
    "\n",
    "\n",
    "\n",
    "\n",
    "\n",
    "\n",
    "\n"
   ]
  },
  {
   "cell_type": "code",
   "execution_count": null,
   "metadata": {},
   "outputs": [],
   "source": [
    "# Boxplot to visualise donations distribution by region\n",
    "plt.figure(figsize=(10, 6))\n",
    "sns.boxplot(data=donations_df, x='region', y='donation_amount')\n",
    "plt.title(\"Donations Distribution by Region \")\n",
    "plt.show()"
   ]
  },
  {
   "cell_type": "code",
   "execution_count": null,
   "metadata": {},
   "outputs": [],
   "source": [
    "# HeatMap to visualise correlation between numerical features\n",
    "merged_df = merged_df.select_dtypes(include=['float64', 'int64'])\n",
    "correlation_matrix = merged_df.corr()\n",
    "plt.figure(figsize=(10, 6))\n",
    "sns.heatmap(correlation_matrix, annot=True, cmap='coolwarm')\n",
    "plt.title('Correlation Between Numerical Features')\n",
    "plt.show()"
   ]
  }
 ],
 "metadata": {
  "kernelspec": {
   "display_name": "dsenv",
   "language": "python",
   "name": "python3"
  },
  "language_info": {
   "codemirror_mode": {
    "name": "ipython",
    "version": 3
   },
   "file_extension": ".py",
   "mimetype": "text/x-python",
   "name": "python",
   "nbconvert_exporter": "python",
   "pygments_lexer": "ipython3",
   "version": "3.9.21"
  }
 },
 "nbformat": 4,
 "nbformat_minor": 4
}
